{
 "cells": [
  {
   "cell_type": "markdown",
   "metadata": {},
   "source": [
    "# Save the Model\n",
    "\n",
    "To save this model so that you can use it from various locations, including other notebooks or the model server, upload it to s3-compatible storage."
   ]
  },
  {
   "cell_type": "markdown",
   "metadata": {
    "tags": []
   },
   "source": [
    "## Install the required packages and define a function for the upload"
   ]
  },
  {
   "cell_type": "code",
   "execution_count": null,
   "metadata": {},
   "outputs": [],
   "source": [
    "!pip install boto3 botocore"
   ]
  },
  {
   "cell_type": "code",
   "execution_count": null,
   "metadata": {
    "tags": []
   },
   "outputs": [],
   "source": [
    "import os\n",
    "from minio import Minio\n",
    "import boto3\n",
    "# Obtener las variables de entorno\n",
    "AWS_S3_ENDPOINT = os.getenv(\"AWS_S3_ENDPOINT\")\n",
    "AWS_ACCESS_KEY_ID = os.getenv(\"AWS_ACCESS_KEY_ID\")\n",
    "AWS_SECRET_ACCESS_KEY = os.getenv(\"AWS_SECRET_ACCESS_KEY\")\n",
    "AWS_S3_BUCKET = os.getenv(\"AWS_S3_BUCKET\")\n",
    "# Validar que todas las variables de entorno estén configuradas\n",
    "if not all([AWS_S3_ENDPOINT, AWS_ACCESS_KEY_ID, AWS_SECRET_ACCESS_KEY, AWS_S3_BUCKET]):\n",
    "    raise EnvironmentError(\"Falta una o más variables de entorno: AWS_S3_ENDPOINT, AWS_ACCESS_KEY_ID, AWS_SECRET_ACCESS_KEY, AWS_S3_BUCKET\")\n",
    "# Asegurarse de que el endpoint no tenga una ruta o path\n",
    "AWS_S3_ENDPOINT = AWS_S3_ENDPOINT.split('/')[0]  # Tomar solo la parte del dominio\n",
    "# Crear el cliente de MinIO o S3\n",
    "client = Minio(\n",
    "    AWS_S3_ENDPOINT.replace(\"https://\", \"\").replace(\"http://\", \"\"),  # Asegurarse de que no haya protocolo en el endpoint\n",
    "    access_key=AWS_ACCESS_KEY_ID,\n",
    "    secret_key=AWS_SECRET_ACCESS_KEY,\n",
    "    secure=True  # Usar HTTPS\n",
    ")\n",
    "# Crear el cliente de S3 con boto3\n",
    "s3 = boto3.resource(\n",
    "    's3',\n",
    "    endpoint_url=f\"https://{AWS_S3_ENDPOINT}\",  # Asegúrate de que el endpoint sea solo el dominio\n",
    "    aws_access_key_id=AWS_ACCESS_KEY_ID,\n",
    "    aws_secret_access_key=AWS_SECRET_ACCESS_KEY\n",
    ")\n",
    "# Función para subir directorios a S3\n",
    "def upload_directory_to_s3(local_directory, s3_prefix):\n",
    "    num_files = 0\n",
    "    bucket = s3.Bucket(AWS_S3_BUCKET)  # Utilizando el bucket configurado en las variables de entorno\n",
    "    for root, dirs, files in os.walk(local_directory):\n",
    "        for file in files:\n",
    "            file_path = os.path.join(root, file)\n",
    "            relative_path = os.path.relpath(file_path, local_directory)\n",
    "            s3_key = os.path.join(s3_prefix, relative_path)\n",
    "            print(f\"Uploading {file_path} -> {s3_key}\")\n",
    "            # Subir el archivo al bucket\n",
    "            bucket.upload_file(file_path, s3_key)\n",
    "            num_files += 1\n",
    "    return num_files"
   ]
  },
  {
   "cell_type": "markdown",
   "metadata": {
    "tags": []
   },
   "source": [
    "## Upload and check again"
   ]
  },
  {
   "cell_type": "markdown",
   "metadata": {},
   "source": [
    "Use the function to upload the `models` folder in a rescursive fashion:"
   ]
  },
  {
   "cell_type": "code",
   "execution_count": null,
   "metadata": {},
   "outputs": [],
   "source": [
    "# Validar que el directorio de modelos existe\n",
    "local_models_directory = \"models\"\n",
    "if not os.path.isdir(local_models_directory):\n",
    "    raise ValueError(f\"The directory '{local_models_directory}' does not exist. \"\n",
    "                     \"Did you finish training the model in the previous notebook?\")\n",
    "# Llamar a la función de carga\n",
    "num_files = upload_directory_to_s3(local_models_directory, \"models\")\n",
    "# Validar si se subieron archivos\n",
    "if num_files == 0:\n",
    "    raise ValueError(\"No files uploaded. Did you finish training and saving the model to the 'models' directory? \"\n",
    "                     \"Check for 'models/fraud/1/model.onnx'\")"
   ]
  },
  {
   "cell_type": "markdown",
   "metadata": {},
   "source": [
    "### Next Step\n",
    "\n",
    "Now that you've saved the model to s3 storage, you can refer to the model by using the same data connection to serve the model as an API.\n"
   ]
  }
 ],
 "metadata": {
  "celltoolbar": "Raw Cell Format",
  "kernelspec": {
   "display_name": "Python 3.9",
   "language": "python",
   "name": "python3"
  },
  "language_info": {
   "codemirror_mode": {
    "name": "ipython",
    "version": 3
   },
   "file_extension": ".py",
   "mimetype": "text/x-python",
   "name": "python",
   "nbconvert_exporter": "python",
   "pygments_lexer": "ipython3",
   "version": "3.9.18"
  }
 },
 "nbformat": 4,
 "nbformat_minor": 4
}
